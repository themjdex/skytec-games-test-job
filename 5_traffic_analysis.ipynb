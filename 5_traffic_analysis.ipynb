{
 "cells": [
  {
   "cell_type": "markdown",
   "id": "6901d2b7-9fe9-41ff-bf8c-b45142fd0394",
   "metadata": {},
   "source": [
    "# Задача"
   ]
  },
  {
   "cell_type": "markdown",
   "id": "06ccbe0e-feff-47ce-9835-255ff0206066",
   "metadata": {},
   "source": [
    "Приток новых игроков делится на 2 основных источника - рекламный и органический. Отдел маркетинг выдвигает гипотезу о связи рекламного и органического траффика: когда маркетологи привлекают больше рекламного траффика, растет и органический.\n",
    "\n",
    "Для выполнения задачи необходимо использовать тестовый датасет (таблица source_comparison).\n",
    "\n",
    "- Подтвердите или опровергните гипотезу маркетологов. Если вы ее опровергаете, то сформулируйте гипотезу которая кажется вам наиболее вероятной и проверьте ее\n",
    "- Количественно рассчитайте вероятность что гипотеза маркетологов (или ваша) верна"
   ]
  },
  {
   "cell_type": "markdown",
   "id": "bf09120d-0bd7-4f52-8265-775706b5c32d",
   "metadata": {},
   "source": [
    "# Решение"
   ]
  },
  {
   "cell_type": "code",
   "execution_count": 15,
   "id": "6e8ab382-70c5-4ca2-a611-d0f399ab9e0f",
   "metadata": {
    "tags": []
   },
   "outputs": [],
   "source": [
    "import sqlite3\n",
    "import pandas as pd\n",
    "import sqlalchemy"
   ]
  },
  {
   "cell_type": "code",
   "execution_count": 3,
   "id": "5e034ccc-fa35-4d41-95cd-f4482488733f",
   "metadata": {
    "tags": []
   },
   "outputs": [],
   "source": [
    "# подключимся к тестовой бд\n",
    "connect = sqlite3.connect(\"testcase.db\")"
   ]
  },
  {
   "cell_type": "code",
   "execution_count": 16,
   "id": "99a597f7-7c17-41aa-9430-16475609cf2e",
   "metadata": {
    "tags": []
   },
   "outputs": [],
   "source": [
    "# переведем в датафрейм\n",
    "df = pd.read_sql_query(\"SELECT * FROM source_comparison\", connect)"
   ]
  },
  {
   "cell_type": "code",
   "execution_count": 18,
   "id": "976415fe-0191-48ce-b573-8084514df6b9",
   "metadata": {
    "tags": []
   },
   "outputs": [],
   "source": [
    "def get_dataset_info(df: pd.DataFrame) -> None:\n",
    "    \"\"\"\n",
    "    Функция выводит общую инфу\n",
    "    о датасете одним полем\n",
    "    \n",
    "    :param pd.DataFrame df: pandas-датафрейм, который нужно проанализировать\n",
    "    \"\"\"\n",
    "    display(df.head())\n",
    "    print('\\n')\n",
    "    print(df.info())\n",
    "    print('\\n')\n",
    "    display(df.describe())\n",
    "    print('\\n')\n",
    "    print(df.isna().sum())\n",
    "    print('\\n')\n",
    "    print(f'Дубликаты: {df.duplicated().sum()}')\n",
    "    print('it`s over')"
   ]
  },
  {
   "cell_type": "code",
   "execution_count": 19,
   "id": "cfd99f5f-d177-4be1-8c48-b6b982e4cca1",
   "metadata": {
    "tags": []
   },
   "outputs": [
    {
     "data": {
      "text/html": [
       "<div>\n",
       "<style scoped>\n",
       "    .dataframe tbody tr th:only-of-type {\n",
       "        vertical-align: middle;\n",
       "    }\n",
       "\n",
       "    .dataframe tbody tr th {\n",
       "        vertical-align: top;\n",
       "    }\n",
       "\n",
       "    .dataframe thead th {\n",
       "        text-align: right;\n",
       "    }\n",
       "</style>\n",
       "<table border=\"1\" class=\"dataframe\">\n",
       "  <thead>\n",
       "    <tr style=\"text-align: right;\">\n",
       "      <th></th>\n",
       "      <th>Install_Dates</th>\n",
       "      <th>source_type</th>\n",
       "      <th>Country</th>\n",
       "      <th>installs</th>\n",
       "    </tr>\n",
       "  </thead>\n",
       "  <tbody>\n",
       "    <tr>\n",
       "      <th>0</th>\n",
       "      <td>2020-05-18</td>\n",
       "      <td>Paid</td>\n",
       "      <td>PY</td>\n",
       "      <td>4.0</td>\n",
       "    </tr>\n",
       "    <tr>\n",
       "      <th>1</th>\n",
       "      <td>2020-04-14</td>\n",
       "      <td>Paid</td>\n",
       "      <td>FR</td>\n",
       "      <td>35.0</td>\n",
       "    </tr>\n",
       "    <tr>\n",
       "      <th>2</th>\n",
       "      <td>2020-04-30</td>\n",
       "      <td>Paid</td>\n",
       "      <td>JP</td>\n",
       "      <td>25.0</td>\n",
       "    </tr>\n",
       "    <tr>\n",
       "      <th>3</th>\n",
       "      <td>2020-03-20</td>\n",
       "      <td>Paid</td>\n",
       "      <td>DE</td>\n",
       "      <td>11.0</td>\n",
       "    </tr>\n",
       "    <tr>\n",
       "      <th>4</th>\n",
       "      <td>2020-04-30</td>\n",
       "      <td>Paid</td>\n",
       "      <td>IT</td>\n",
       "      <td>8.0</td>\n",
       "    </tr>\n",
       "  </tbody>\n",
       "</table>\n",
       "</div>"
      ],
      "text/plain": [
       "  Install_Dates source_type Country  installs\n",
       "0    2020-05-18        Paid      PY       4.0\n",
       "1    2020-04-14        Paid      FR      35.0\n",
       "2    2020-04-30        Paid      JP      25.0\n",
       "3    2020-03-20        Paid      DE      11.0\n",
       "4    2020-04-30        Paid      IT       8.0"
      ]
     },
     "metadata": {},
     "output_type": "display_data"
    },
    {
     "name": "stdout",
     "output_type": "stream",
     "text": [
      "\n",
      "\n",
      "<class 'pandas.core.frame.DataFrame'>\n",
      "RangeIndex: 18606 entries, 0 to 18605\n",
      "Data columns (total 4 columns):\n",
      " #   Column         Non-Null Count  Dtype  \n",
      "---  ------         --------------  -----  \n",
      " 0   Install_Dates  18606 non-null  object \n",
      " 1   source_type    18606 non-null  object \n",
      " 2   Country        18606 non-null  object \n",
      " 3   installs       18606 non-null  float64\n",
      "dtypes: float64(1), object(3)\n",
      "memory usage: 581.6+ KB\n",
      "None\n",
      "\n",
      "\n"
     ]
    },
    {
     "data": {
      "text/html": [
       "<div>\n",
       "<style scoped>\n",
       "    .dataframe tbody tr th:only-of-type {\n",
       "        vertical-align: middle;\n",
       "    }\n",
       "\n",
       "    .dataframe tbody tr th {\n",
       "        vertical-align: top;\n",
       "    }\n",
       "\n",
       "    .dataframe thead th {\n",
       "        text-align: right;\n",
       "    }\n",
       "</style>\n",
       "<table border=\"1\" class=\"dataframe\">\n",
       "  <thead>\n",
       "    <tr style=\"text-align: right;\">\n",
       "      <th></th>\n",
       "      <th>installs</th>\n",
       "    </tr>\n",
       "  </thead>\n",
       "  <tbody>\n",
       "    <tr>\n",
       "      <th>count</th>\n",
       "      <td>18606.000000</td>\n",
       "    </tr>\n",
       "    <tr>\n",
       "      <th>mean</th>\n",
       "      <td>51.968451</td>\n",
       "    </tr>\n",
       "    <tr>\n",
       "      <th>std</th>\n",
       "      <td>227.810616</td>\n",
       "    </tr>\n",
       "    <tr>\n",
       "      <th>min</th>\n",
       "      <td>1.000000</td>\n",
       "    </tr>\n",
       "    <tr>\n",
       "      <th>25%</th>\n",
       "      <td>2.000000</td>\n",
       "    </tr>\n",
       "    <tr>\n",
       "      <th>50%</th>\n",
       "      <td>6.000000</td>\n",
       "    </tr>\n",
       "    <tr>\n",
       "      <th>75%</th>\n",
       "      <td>22.000000</td>\n",
       "    </tr>\n",
       "    <tr>\n",
       "      <th>max</th>\n",
       "      <td>5633.000000</td>\n",
       "    </tr>\n",
       "  </tbody>\n",
       "</table>\n",
       "</div>"
      ],
      "text/plain": [
       "           installs\n",
       "count  18606.000000\n",
       "mean      51.968451\n",
       "std      227.810616\n",
       "min        1.000000\n",
       "25%        2.000000\n",
       "50%        6.000000\n",
       "75%       22.000000\n",
       "max     5633.000000"
      ]
     },
     "metadata": {},
     "output_type": "display_data"
    },
    {
     "name": "stdout",
     "output_type": "stream",
     "text": [
      "\n",
      "\n",
      "Install_Dates    0\n",
      "source_type      0\n",
      "Country          0\n",
      "installs         0\n",
      "dtype: int64\n",
      "\n",
      "\n",
      "Дубликаты: 679\n",
      "it`s over\n"
     ]
    }
   ],
   "source": [
    "# получим общую инфу о представленных данных\n",
    "get_dataset_info(df)"
   ]
  },
  {
   "cell_type": "markdown",
   "id": "299803de-e9f9-4e16-8034-0e47803fffb5",
   "metadata": {},
   "source": [
    "Вроде проблем никаких нет, за исключением 679 полных дубликата. Дубликаты в целом не очень хорошо, поэтому от них избавимся, чтобы не смазали картину."
   ]
  },
  {
   "cell_type": "code",
   "execution_count": 21,
   "id": "402806e1-e236-4fb4-908c-6e8fadeaeb47",
   "metadata": {
    "tags": []
   },
   "outputs": [
    {
     "data": {
      "text/plain": [
       "0"
      ]
     },
     "execution_count": 21,
     "metadata": {},
     "output_type": "execute_result"
    }
   ],
   "source": [
    "df = df.drop_duplicates()\n",
    "df.duplicated().sum()"
   ]
  },
  {
   "cell_type": "markdown",
   "id": "ae0ac473-f099-409b-ad4f-4d85740da142",
   "metadata": {},
   "source": [
    "Нас в первую очередь интересуют столбцы с видом трафика и количеством установок."
   ]
  },
  {
   "cell_type": "code",
   "execution_count": null,
   "id": "edb85e29-a83c-4b49-8fcb-e91915b3c6c9",
   "metadata": {},
   "outputs": [],
   "source": []
  },
  {
   "cell_type": "code",
   "execution_count": null,
   "id": "c89f58a9-fcfb-4dcb-8d16-d4e9d49e8bf8",
   "metadata": {},
   "outputs": [],
   "source": []
  },
  {
   "cell_type": "code",
   "execution_count": null,
   "id": "e03b32db-8139-4914-930f-0b850124eacd",
   "metadata": {},
   "outputs": [],
   "source": []
  },
  {
   "cell_type": "code",
   "execution_count": null,
   "id": "6e5d058c-9fbe-49dc-8086-02b0d1bae459",
   "metadata": {},
   "outputs": [],
   "source": []
  }
 ],
 "metadata": {
  "kernelspec": {
   "display_name": "Python 3 (ipykernel)",
   "language": "python",
   "name": "python3"
  },
  "language_info": {
   "codemirror_mode": {
    "name": "ipython",
    "version": 3
   },
   "file_extension": ".py",
   "mimetype": "text/x-python",
   "name": "python",
   "nbconvert_exporter": "python",
   "pygments_lexer": "ipython3",
   "version": "3.11.5"
  }
 },
 "nbformat": 4,
 "nbformat_minor": 5
}
