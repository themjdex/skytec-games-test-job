{
 "cells": [
  {
   "cell_type": "markdown",
   "id": "2f907866-a5a3-4add-93ed-b1c9f4a2ed8e",
   "metadata": {},
   "source": [
    "# Задача\n",
    "В мобильной игре около 10% игроков совершает платежи в первый месяц с момента установки игры (база расчета - 500 игроков). Геймдизайнеры разработали обновление которое по их экспертной оценке должно увеличить процент плательщиков с 10% до 11%. Цель эксперимента - подтвердить или опровергнуть их гипотезу.\n",
    "\n",
    "- Опишите оптимальный по вашему мнению дизайн эксперимента\n",
    "- Рассчитайте длительность эксперимента при условии что каждый день в игру приходит около 100 новых игроков.\n",
    "- Самостоятельно сгенерируйте датасет с около 10% плательщиков (контроль) и рассчитайте доверительный интервал.\n",
    "- Сгенерируйте несколько вариантов экспериментальной группы (хуже, лучше, без эффекта), рассчитайте силу эффекта, ДИ и ваши выводы для каждого варианта.\n",
    "- Решите задачу 2 разными подходами: frequentist / bayesian\n",
    "Необходимо все ответы сопроводить комментариями почему вы выбрали ту или иную методику расчета, алгоритм и т.д."
   ]
  },
  {
   "cell_type": "markdown",
   "id": "2357b0e9-f598-4231-835c-23875c247b37",
   "metadata": {},
   "source": [
    "# Решение"
   ]
  },
  {
   "cell_type": "markdown",
   "id": "a3ad3726-cc92-4d50-adc9-73945207b52c",
   "metadata": {},
   "source": [
    "Для начала нам нужны данные, с которыми будем работать, поэтому сделаем несколько выборок клиентов, которые будем сравнивать до/после, а также с изменениями и без."
   ]
  },
  {
   "cell_type": "code",
   "execution_count": 1,
   "id": "ba5f37fb-1fc5-4642-ba1b-84817400d454",
   "metadata": {
    "tags": []
   },
   "outputs": [],
   "source": [
    "import numpy as np\n",
    "from scipy import stats as st\n",
    "from typing import List"
   ]
  },
  {
   "cell_type": "code",
   "execution_count": 2,
   "id": "3e7ce9a6-6170-4467-843e-a02238d4151f",
   "metadata": {
    "tags": []
   },
   "outputs": [],
   "source": [
    "np.random.seed(42)"
   ]
  },
  {
   "cell_type": "code",
   "execution_count": 3,
   "id": "57d1a948-1a14-4990-b78c-9cf1a1228f90",
   "metadata": {
    "tags": []
   },
   "outputs": [],
   "source": [
    "# группа игроков до изменений\n",
    "group_before_change = np.array([0] * 450 + [1] * 50)\n",
    "\n",
    "# группы после\n",
    "positive_group_after_change = np.array([0] * 445 + [1] * 55)\n",
    "negative_group_after_change = np.array([0] * 460 + [1] * 40)\n",
    "unchanged_group_after_change = np.array([0] * 450 + [1] * 50)"
   ]
  },
  {
   "cell_type": "code",
   "execution_count": 4,
   "id": "84fac146-a587-4429-86d7-545472f3ae0a",
   "metadata": {
    "tags": []
   },
   "outputs": [],
   "source": [
    "# перемешаем, чтобы выглядело более похоже на реальные данные\n",
    "np.random.shuffle(group_before_change)\n",
    "np.random.shuffle(positive_group_after_change)\n",
    "np.random.shuffle(negative_group_after_change)\n",
    "np.random.shuffle(unchanged_group_after_change)"
   ]
  },
  {
   "cell_type": "markdown",
   "id": "15bf5b90-19a0-44bb-995c-00e031167bfd",
   "metadata": {
    "tags": []
   },
   "source": [
    "Мы создали синтетические массивы:\n",
    "- `group_before_change` — 500 пришедших игроков до изменения\n",
    "- `positive_group_after_change` — 500 пришедших игроков после изменения (кол-во платящих выросло на прогнозируемые 11%)\n",
    "- `negative_group_after_change` — 500 пришедших игроков после изменения (кол-во платящих наоборот упало до 8%)\n",
    "- `unchanged_group_after_change` — 500 пришедших игроков после изменения (кол-во платящих совсем не изменилось)\n",
    "\n",
    "Что еще стоит уточнить? \n",
    "- Будем считать, что до и после изменений исследуются разные игроки, соответственно, это уже независимые группы людей (новые игроки со временем становятся неновыми и уже не оцениваются повторно)\n",
    "- На таких маленьких данных в целом не нужны какие-либо статистические проверки гипотез, но предположим, потом нужно будет масштабировать решение на бесконечное количество игроков.\n",
    "- Будем считать, что в период проведения А/Б-тестирования не происходило никаких других нововведений, акций, PR-скандалов, попадания в топы платформодержателей или падений астероидов.\n",
    "- уровень статистической значимости возьмем за 0.05"
   ]
  },
  {
   "cell_type": "markdown",
   "id": "feef3f7d-ade8-489a-80af-ba5d0eaebe2e",
   "metadata": {},
   "source": [
    "Геймдизайнеры утверждают, что нововведение посысит количество плательщиков среди игроков до 11%, но вряд ли признаются, как это посчитали. Но в качестве нулевой гипотезы мы предположим, что никаких изменений на самом деле не случилось. А альтернативная будет заключаться в том, что кол-во плательщиков изменилось. Можно попробовать рассчитать t-критерий для независимых выборок."
   ]
  },
  {
   "cell_type": "code",
   "execution_count": 5,
   "id": "3868a348-a797-4408-abf4-56fc7d005af0",
   "metadata": {
    "tags": []
   },
   "outputs": [],
   "source": [
    "class ABTesting():\n",
    "    \n",
    "    df_before: np.ndarray\n",
    "    df_after: np.ndarray\n",
    "    alpha: float\n",
    "    samples_before: List[int]\n",
    "    samples_after: List[int]\n",
    "    \n",
    "    def __init__(self, df_before: np.ndarray, df_after: np.ndarray, alpha: float) -> None:\n",
    "        self.df_before = df_before\n",
    "        self.df_after = df_after\n",
    "        self.alpha = alpha\n",
    "        self.samples_before = []\n",
    "        self.samples_after = []\n",
    "        \n",
    "    def ttest(self) -> None:\n",
    "        # проверяем наличие входных данных\n",
    "        self.__validator()\n",
    "        \n",
    "        # проводим бутстрапирование кол-ва заплативших игроков\n",
    "        self.__bootstrap()\n",
    "        \n",
    "        # проводим t-тест на двух полученных выборках\n",
    "        results = st.ttest_ind(self.samples_before, self.samples_after)\n",
    "        if results.pvalue < self.alpha:\n",
    "            print('Отвергаем нулевую гипотезу')\n",
    "        else:\n",
    "            print('Не получилось отвергнуть нулевую гипотезу')\n",
    "\n",
    "    def __validator(self) -> None:\n",
    "        if not hasattr(self, 'df_before'):\n",
    "            raise Exception('Не переданы данные до изменения')\n",
    "        if not hasattr(self, 'df_after'):\n",
    "            raise Exception('Не переданы данные после изменения')\n",
    "        if not hasattr(self, 'alpha'):\n",
    "            self.alpha = 0.05\n",
    "    \n",
    "    def __bootstrap(self, sample_size: int = 50) -> None:\n",
    "        np.random.seed(42)\n",
    "        for _ in range(500):\n",
    "            # делаем случайные выборки по 50 игроков с возвратом\n",
    "            sample_1 = np.random.choice(self.df_before, size=sample_size, replace=True)\n",
    "            sample_2 = np.random.choice(self.df_after, size=sample_size, replace=True)\n",
    "            \n",
    "            # добавляем кол-во заплативших игроков в новые списки\n",
    "            self.samples_before.append(sum(sample_1))\n",
    "            self.samples_after.append(sum(sample_2))\n",
    "            "
   ]
  },
  {
   "cell_type": "code",
   "execution_count": 6,
   "id": "0f7093ce-f18e-4191-9cf6-36ff5ef50bd2",
   "metadata": {
    "tags": []
   },
   "outputs": [],
   "source": [
    "test_positive = ABTesting(group_before_change, positive_group_after_change, 0.05)\n",
    "test_negative = ABTesting(group_before_change, negative_group_after_change, 0.05)\n",
    "test_unchanged = ABTesting(group_before_change, unchanged_group_after_change, 0.05)"
   ]
  },
  {
   "cell_type": "code",
   "execution_count": 7,
   "id": "9dfb883c-ca4e-4390-b103-bf419ee2b8c5",
   "metadata": {
    "tags": []
   },
   "outputs": [
    {
     "name": "stdout",
     "output_type": "stream",
     "text": [
      "Отвергаем нулевую гипотезу\n"
     ]
    }
   ],
   "source": [
    "# эксперимент, где плательщиков стало больше\n",
    "test_positive.ttest()"
   ]
  },
  {
   "cell_type": "code",
   "execution_count": 8,
   "id": "3535a605-a3cb-4f6c-b3ee-f89bb9db0d04",
   "metadata": {
    "tags": []
   },
   "outputs": [
    {
     "name": "stdout",
     "output_type": "stream",
     "text": [
      "Отвергаем нулевую гипотезу\n"
     ]
    }
   ],
   "source": [
    "# эксперимент, где плательщиков стало меньше\n",
    "test_negative.ttest()"
   ]
  },
  {
   "cell_type": "code",
   "execution_count": 9,
   "id": "641f4103-83cc-40d6-9cd7-7ba3a7f9f713",
   "metadata": {},
   "outputs": [
    {
     "name": "stdout",
     "output_type": "stream",
     "text": [
      "Не получилось отвергнуть нулевую гипотезу\n"
     ]
    }
   ],
   "source": [
    "# эксперимент, где кол-во плательщиков не изменилось\n",
    "test_unchanged.ttest()"
   ]
  },
  {
   "cell_type": "markdown",
   "id": "b3dde049-ed82-4518-9f32-f4d71f52985e",
   "metadata": {},
   "source": [
    "В группах с изменениями мы отвергаем гипотезу о том, что выборки равны, что удовлетворяет тому, что мы знаем за пределами эксперимента. А там, где не было изменений — отвергнуть нулевую гипотезу не вышло. Однако, нам это не говорит о том, в какую сторону произошли изменения. "
   ]
  },
  {
   "cell_type": "markdown",
   "id": "3cd9f64c-0b00-4bca-95d5-e9e61f74c566",
   "metadata": {},
   "source": [
    "Что касается длительности эксперимента, то первый попавшийся онлайн-калькулятор мне насчитал 28257 человек в экспериментальной и контрольных группах. Попробуем оценить то же вручную, при условии, что каждый день мы получаем по 100 новых игроков. Воспользуемся формулой для расчета кол-ва выборки с z-тестами."
   ]
  },
  {
   "cell_type": "code",
   "execution_count": 10,
   "id": "c0fa3273-827a-4b24-baa7-7ee26fd16c0d",
   "metadata": {
    "tags": []
   },
   "outputs": [
    {
     "name": "stdout",
     "output_type": "stream",
     "text": [
      "Размер выборки (для каждой группы): 14128\n",
      "Длительность эксперимента (в днях): 141\n"
     ]
    }
   ],
   "source": [
    "alpha = 0.05 # уровень стат. значимости\n",
    "beta = 0.2 # наша мощность\n",
    "p_0 = 0.10  # начальная конверсия\n",
    "p_1 = 0.11  # целевая конверсия\n",
    "effect = p_1 - p_0  # минимально допустимое изменение\n",
    "\n",
    "z_over_alpha = st.norm.ppf(1 - alpha / 2) # критическое z для 0.05\n",
    "z_over_beta = st.norm.ppf(1 - beta) # критическое z для 80% мощности\n",
    "\n",
    "# Расчет размера выборки\n",
    "n = (2 * (z_over_alpha + z_over_beta) ** 2 * p_0 * (1 - p_0)) / effect ** 2\n",
    "\n",
    "# Расчет длительности эксперимента\n",
    "daily_new_players = 100\n",
    "duration_days = n / daily_new_players\n",
    "\n",
    "print(f\"Размер выборки (для каждой группы): {round(n)}\")\n",
    "print(f\"Длительность эксперимента (в днях): {round(duration_days)}\")"
   ]
  },
  {
   "cell_type": "markdown",
   "id": "7f0b0d39-1397-412f-9001-1b8a2751de41",
   "metadata": {},
   "source": [
    "Получился тот же результат, согласно которому потребуется около 141 дня, чтобы максимально точно оценить изменение на 1%. Представим, что мы собрали 14128 наблюдений, в которых теперь действительно 11% плательщиков."
   ]
  },
  {
   "cell_type": "code",
   "execution_count": 11,
   "id": "4e0f94c0-e21e-4788-85e9-758e69f0a58b",
   "metadata": {
    "tags": []
   },
   "outputs": [],
   "source": [
    "np.random.seed(42)\n",
    "\n",
    "# группа с позитивным измерением\n",
    "big_positive_group_after_change = np.array([0] * 12573 + [1] * 1554)\n",
    "np.random.shuffle(big_positive_group_after_change)"
   ]
  },
  {
   "cell_type": "markdown",
   "id": "94f3020a-9531-4548-b8b3-0c46471242ff",
   "metadata": {
    "tags": []
   },
   "source": [
    "Проведем односторонний тест со следующими гипотезами:\n",
    "- Нулевая: кол-во платящих игроков осталось прежним или даже меньше 10%\n",
    "- Альтернативная: кол-во платящих игроков действительно стало больше 10%\n",
    "\n",
    "Сделаем 500 выборок по 100 игроков, где в среднем мы хотим проверить, что платящих игроков 10 или менее, т.е. 10%."
   ]
  },
  {
   "cell_type": "code",
   "execution_count": 12,
   "id": "254df4fb-38d4-44aa-80c4-313f6bc8192c",
   "metadata": {
    "tags": []
   },
   "outputs": [],
   "source": [
    "def check_equal_mean(sample: np.ndarray, value: int) -> None:\n",
    "    samples_mean = []\n",
    "    for _ in range(5000):\n",
    "        one_sample = np.random.choice(big_positive_group_after_change, size=100, replace=True)\n",
    "        samples_mean.append(sum(one_sample))\n",
    "\n",
    "    results = st.ttest_1samp(samples_mean, value)\n",
    "    \n",
    "    if (results.pvalue / 2 < alpha) and (np.array(samples_mean).mean() > value):\n",
    "        print(\"Отвергаем нулевую гипотезу\")\n",
    "    else:\n",
    "        print(\"Не отвергаем нулевую гипотезу\")"
   ]
  },
  {
   "cell_type": "code",
   "execution_count": 13,
   "id": "80022411-424c-4968-8caf-74e6a8bc260e",
   "metadata": {
    "tags": []
   },
   "outputs": [
    {
     "name": "stdout",
     "output_type": "stream",
     "text": [
      "Отвергаем нулевую гипотезу\n"
     ]
    }
   ],
   "source": [
    "check_equal_mean(big_positive_group_after_change, 10)"
   ]
  },
  {
   "cell_type": "markdown",
   "id": "60b6e103-efc9-4e50-b919-0dec60c7872e",
   "metadata": {},
   "source": [
    "Можно сказать, что изменения таким образом действительно можно зафиксировать, хотя все равно нет гарантий, что это будет работать всегда именно так, можно лишь статистически прикинуть, отвергать гипотезу или нет, но не подтвердить её. Это будет лучше делать на фактических данных всей выборки."
   ]
  },
  {
   "cell_type": "code",
   "execution_count": null,
   "id": "ff82361a-a3f5-4a93-b3ba-bdb677cae306",
   "metadata": {},
   "outputs": [],
   "source": []
  }
 ],
 "metadata": {
  "kernelspec": {
   "display_name": "Python 3 (ipykernel)",
   "language": "python",
   "name": "python3"
  },
  "language_info": {
   "codemirror_mode": {
    "name": "ipython",
    "version": 3
   },
   "file_extension": ".py",
   "mimetype": "text/x-python",
   "name": "python",
   "nbconvert_exporter": "python",
   "pygments_lexer": "ipython3",
   "version": "3.11.5"
  }
 },
 "nbformat": 4,
 "nbformat_minor": 5
}
